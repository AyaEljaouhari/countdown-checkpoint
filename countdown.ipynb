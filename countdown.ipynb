{
  "nbformat": 4,
  "nbformat_minor": 0,
  "metadata": {
    "colab": {
      "provenance": []
    },
    "kernelspec": {
      "name": "python3",
      "display_name": "Python 3"
    },
    "language_info": {
      "name": "python"
    }
  },
  "cells": [
    {
      "cell_type": "code",
      "execution_count": null,
      "metadata": {
        "id": "HDdIY22O0d3i"
      },
      "outputs": [],
      "source": [
        "\"\"\"Import the time module.\n",
        "Ask the user to input the length of the countdown in seconds.\n",
        "This value is sent as a parameter ‘t’ to the user-defined function countdown(). Any variable read using the input function is a string. So, convert this parameter to ‘int’ as it is of string type.\n",
        "In this function, a while loop runs until time becomes 0.\n",
        "Use divmod() to calculate the number of minutes and seconds. You can read more about it here.\n",
        "Now print the minutes and seconds on the screen using the variable timeformat.\n",
        "Using end = ‘\\r’ we force the cursor to go back to the start of the screen (carriage return) so that the next line printed will overwrite the previous one.\n",
        "The time.sleep() is used to make the code wait for one sec.\n",
        "Now decrement time so that the while loop can converge.\n",
        "After the completion of the loop, we will print “Fire in the hole” to signify the end of the countdown.\"\"\""
      ]
    },
    {
      "cell_type": "code",
      "source": [
        "import time\n",
        "t=int(input(\"saisir la valeur du countdown:\"  ))\n",
        "def countdown(t):\n",
        "  while t:\n",
        "\n",
        "    minutes, secondes=divmod(t,60)\n",
        "    print( '{:02d}: {:02d}'.format(minutes,secondes),end='\\r')\n",
        "    #Decrement the while loop\n",
        "    t=t-1\n",
        "  print(\"Fire in the hole\")\n",
        "countdown(t)"
      ],
      "metadata": {
        "colab": {
          "base_uri": "https://localhost:8080/"
        },
        "id": "kYY3jx6f0kGT",
        "outputId": "83d34d18-7b3f-49b0-a52c-9db763b10e9a"
      },
      "execution_count": 2,
      "outputs": [
        {
          "output_type": "stream",
          "name": "stdout",
          "text": [
            "saisir la valeur du countdown:10\n",
            "Fire in the hole\n"
          ]
        }
      ]
    }
  ]
}